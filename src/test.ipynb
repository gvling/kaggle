{
 "cells": [
  {
   "cell_type": "code",
   "execution_count": 1,
   "metadata": {
    "ExecuteTime": {
     "end_time": "2020-05-26T09:11:57.170073Z",
     "start_time": "2020-05-26T09:11:57.117812Z"
    }
   },
   "outputs": [],
   "source": [
    "%load_ext autoreload\n",
    "%autoreload 2"
   ]
  },
  {
   "cell_type": "markdown",
   "metadata": {},
   "source": [
    "# Data"
   ]
  },
  {
   "cell_type": "markdown",
   "metadata": {},
   "source": [
    "## Get Competition Data"
   ]
  },
  {
   "cell_type": "code",
   "execution_count": 1,
   "metadata": {
    "ExecuteTime": {
     "end_time": "2020-05-26T07:13:55.548444Z",
     "start_time": "2020-05-26T07:13:52.740771Z"
    },
    "deletable": false,
    "editable": false,
    "run_control": {
     "frozen": true
    },
    "scrolled": true
   },
   "outputs": [
    {
     "name": "stdout",
     "output_type": "stream",
     "text": [
      "name                   size  creationDate         \r\n",
      "---------------------  ----  -------------------  \r\n",
      "gender_submission.csv   3KB  2018-04-09 05:33:22  \r\n",
      "train.csv              60KB  2018-04-09 05:33:22  \r\n",
      "test.csv               28KB  2018-04-09 05:33:22  \r\n"
     ]
    }
   ],
   "source": [
    "!kaggle competitions files -c titanic"
   ]
  },
  {
   "cell_type": "code",
   "execution_count": 2,
   "metadata": {
    "ExecuteTime": {
     "end_time": "2020-05-26T07:13:58.645501Z",
     "start_time": "2020-05-26T07:13:55.550544Z"
    },
    "deletable": false,
    "editable": false,
    "run_control": {
     "frozen": true
    }
   },
   "outputs": [
    {
     "name": "stdout",
     "output_type": "stream",
     "text": [
      "titanic.zip: Skipping, found more recently modified local copy (use --force to force download)\r\n"
     ]
    }
   ],
   "source": [
    "# download data\n",
    "! kaggle competitions download -c titanic -p /notebooks/data/"
   ]
  },
  {
   "cell_type": "code",
   "execution_count": 12,
   "metadata": {
    "ExecuteTime": {
     "end_time": "2020-05-26T07:14:36.135333Z",
     "start_time": "2020-05-26T07:14:33.794572Z"
    },
    "deletable": false,
    "editable": false,
    "run_control": {
     "frozen": true
    }
   },
   "outputs": [
    {
     "name": "stdout",
     "output_type": "stream",
     "text": [
      "Archive:  /notebooks/data/titanic.zip\n",
      "replace /notebooks/data/titanic/gender_submission.csv? [y]es, [n]o, [A]ll, [N]one, [r]ename: ^C\n"
     ]
    }
   ],
   "source": [
    "# unzip\n",
    "! unzip /notebooks/data/titanic.zip -d /notebooks/data/titanic"
   ]
  },
  {
   "cell_type": "markdown",
   "metadata": {},
   "source": [
    "## Data Watching"
   ]
  },
  {
   "cell_type": "code",
   "execution_count": 2,
   "metadata": {
    "ExecuteTime": {
     "end_time": "2020-05-26T09:11:57.192144Z",
     "start_time": "2020-05-26T09:11:57.171849Z"
    }
   },
   "outputs": [],
   "source": [
    "import numpy as np\n",
    "import pandas as pd"
   ]
  },
  {
   "cell_type": "code",
   "execution_count": 3,
   "metadata": {
    "ExecuteTime": {
     "end_time": "2020-05-26T09:11:57.251038Z",
     "start_time": "2020-05-26T09:11:57.194143Z"
    }
   },
   "outputs": [],
   "source": [
    "trainDf = pd.read_csv('../data/titanic/train.csv')\n",
    "testDf  = pd.read_csv('../data/titanic/test.csv')"
   ]
  },
  {
   "cell_type": "code",
   "execution_count": 4,
   "metadata": {
    "ExecuteTime": {
     "end_time": "2020-05-26T09:11:57.296837Z",
     "start_time": "2020-05-26T09:11:57.253134Z"
    }
   },
   "outputs": [
    {
     "data": {
      "text/html": [
       "<div>\n",
       "<style scoped>\n",
       "    .dataframe tbody tr th:only-of-type {\n",
       "        vertical-align: middle;\n",
       "    }\n",
       "\n",
       "    .dataframe tbody tr th {\n",
       "        vertical-align: top;\n",
       "    }\n",
       "\n",
       "    .dataframe thead th {\n",
       "        text-align: right;\n",
       "    }\n",
       "</style>\n",
       "<table border=\"1\" class=\"dataframe\">\n",
       "  <thead>\n",
       "    <tr style=\"text-align: right;\">\n",
       "      <th></th>\n",
       "      <th>PassengerId</th>\n",
       "      <th>Survived</th>\n",
       "      <th>Pclass</th>\n",
       "      <th>Name</th>\n",
       "      <th>Sex</th>\n",
       "      <th>Age</th>\n",
       "      <th>SibSp</th>\n",
       "      <th>Parch</th>\n",
       "      <th>Ticket</th>\n",
       "      <th>Fare</th>\n",
       "      <th>Cabin</th>\n",
       "      <th>Embarked</th>\n",
       "    </tr>\n",
       "  </thead>\n",
       "  <tbody>\n",
       "    <tr>\n",
       "      <th>0</th>\n",
       "      <td>1</td>\n",
       "      <td>0</td>\n",
       "      <td>3</td>\n",
       "      <td>Braund, Mr. Owen Harris</td>\n",
       "      <td>male</td>\n",
       "      <td>22.0</td>\n",
       "      <td>1</td>\n",
       "      <td>0</td>\n",
       "      <td>A/5 21171</td>\n",
       "      <td>7.2500</td>\n",
       "      <td>NaN</td>\n",
       "      <td>S</td>\n",
       "    </tr>\n",
       "    <tr>\n",
       "      <th>1</th>\n",
       "      <td>2</td>\n",
       "      <td>1</td>\n",
       "      <td>1</td>\n",
       "      <td>Cumings, Mrs. John Bradley (Florence Briggs Th...</td>\n",
       "      <td>female</td>\n",
       "      <td>38.0</td>\n",
       "      <td>1</td>\n",
       "      <td>0</td>\n",
       "      <td>PC 17599</td>\n",
       "      <td>71.2833</td>\n",
       "      <td>C85</td>\n",
       "      <td>C</td>\n",
       "    </tr>\n",
       "    <tr>\n",
       "      <th>2</th>\n",
       "      <td>3</td>\n",
       "      <td>1</td>\n",
       "      <td>3</td>\n",
       "      <td>Heikkinen, Miss. Laina</td>\n",
       "      <td>female</td>\n",
       "      <td>26.0</td>\n",
       "      <td>0</td>\n",
       "      <td>0</td>\n",
       "      <td>STON/O2. 3101282</td>\n",
       "      <td>7.9250</td>\n",
       "      <td>NaN</td>\n",
       "      <td>S</td>\n",
       "    </tr>\n",
       "    <tr>\n",
       "      <th>3</th>\n",
       "      <td>4</td>\n",
       "      <td>1</td>\n",
       "      <td>1</td>\n",
       "      <td>Futrelle, Mrs. Jacques Heath (Lily May Peel)</td>\n",
       "      <td>female</td>\n",
       "      <td>35.0</td>\n",
       "      <td>1</td>\n",
       "      <td>0</td>\n",
       "      <td>113803</td>\n",
       "      <td>53.1000</td>\n",
       "      <td>C123</td>\n",
       "      <td>S</td>\n",
       "    </tr>\n",
       "    <tr>\n",
       "      <th>4</th>\n",
       "      <td>5</td>\n",
       "      <td>0</td>\n",
       "      <td>3</td>\n",
       "      <td>Allen, Mr. William Henry</td>\n",
       "      <td>male</td>\n",
       "      <td>35.0</td>\n",
       "      <td>0</td>\n",
       "      <td>0</td>\n",
       "      <td>373450</td>\n",
       "      <td>8.0500</td>\n",
       "      <td>NaN</td>\n",
       "      <td>S</td>\n",
       "    </tr>\n",
       "  </tbody>\n",
       "</table>\n",
       "</div>"
      ],
      "text/plain": [
       "   PassengerId  Survived  Pclass                                               Name     Sex   Age  SibSp  Parch            Ticket     Fare Cabin Embarked\n",
       "0            1         0       3                            Braund, Mr. Owen Harris    male  22.0      1      0         A/5 21171   7.2500   NaN        S\n",
       "1            2         1       1  Cumings, Mrs. John Bradley (Florence Briggs Th...  female  38.0      1      0          PC 17599  71.2833   C85        C\n",
       "2            3         1       3                             Heikkinen, Miss. Laina  female  26.0      0      0  STON/O2. 3101282   7.9250   NaN        S\n",
       "3            4         1       1       Futrelle, Mrs. Jacques Heath (Lily May Peel)  female  35.0      1      0            113803  53.1000  C123        S\n",
       "4            5         0       3                           Allen, Mr. William Henry    male  35.0      0      0            373450   8.0500   NaN        S"
      ]
     },
     "execution_count": 4,
     "metadata": {},
     "output_type": "execute_result"
    }
   ],
   "source": [
    "trainDf.head()"
   ]
  },
  {
   "cell_type": "markdown",
   "metadata": {
    "deletable": false,
    "editable": false,
    "run_control": {
     "frozen": true
    }
   },
   "source": [
    "|Variable|Definition|Key|\n",
    "| ---- | ---- | ---- |\n",
    "|survival|Survival|0 = No, 1 = Yes|\n",
    "|pclass|Ticket class|1 = 1st, 2 = 2nd, 3 = 3rd|\n",
    "|sex|Sex||\n",
    "|Age|Age in years||\n",
    "|sibsp|# of siblings / spouses aboard the Titanic||\n",
    "|parch|# of parents / children aboard the Titanic||\n",
    "|ticket|Ticket number||\n",
    "|fare|Passenger fare||\n",
    "|cabin|Cabin number||\n",
    "|embarked|Port of Embarkation|C = Cherbourg, Q = Queenstown, S = Southampton|"
   ]
  },
  {
   "cell_type": "code",
   "execution_count": 5,
   "metadata": {
    "ExecuteTime": {
     "end_time": "2020-05-26T09:11:57.323670Z",
     "start_time": "2020-05-26T09:11:57.298048Z"
    }
   },
   "outputs": [],
   "source": [
    "# Cabinの番号を抜く\n",
    "## train\n",
    "cabinTrain = trainDf.Cabin.str.extract('([A-Z])', expand=True)\n",
    "cabinTrain.columns = ['Cabin']\n",
    "## test\n",
    "cabinTest = testDf.Cabin.str.extract('([A-Z])', expand=True)\n",
    "cabinTest.columns = ['Cabin']\n",
    "\n",
    "trainDf['Cabin'] = cabinTrain\n",
    "testDf['Cabin']  = cabinTest"
   ]
  },
  {
   "cell_type": "code",
   "execution_count": 22,
   "metadata": {
    "ExecuteTime": {
     "end_time": "2020-05-26T09:13:14.404118Z",
     "start_time": "2020-05-26T09:13:14.364024Z"
    }
   },
   "outputs": [],
   "source": [
    "numColumns = ['Pclass', 'Age', 'SibSp', 'Parch', 'Fare']\n",
    "catColumns = ['Sex', 'Cabin', 'Embarked']\n",
    "\n",
    "objectiveColumn = 'Survived'"
   ]
  },
  {
   "cell_type": "markdown",
   "metadata": {},
   "source": [
    "## Preprocessing"
   ]
  },
  {
   "cell_type": "code",
   "execution_count": 7,
   "metadata": {
    "ExecuteTime": {
     "end_time": "2020-05-26T09:11:58.050745Z",
     "start_time": "2020-05-26T09:11:57.347696Z"
    },
    "scrolled": true
   },
   "outputs": [],
   "source": [
    "from sklearn.pipeline import Pipeline\n",
    "from sklearn.preprocessing import Imputer, OneHotEncoder, StandardScaler\n",
    "\n",
    "import sys\n",
    "sys.path.append('..')\n",
    "from src.utils import machineLearning"
   ]
  },
  {
   "cell_type": "code",
   "execution_count": 8,
   "metadata": {
    "ExecuteTime": {
     "end_time": "2020-05-26T09:11:58.090990Z",
     "start_time": "2020-05-26T09:11:58.052219Z"
    }
   },
   "outputs": [],
   "source": [
    "# preprocess numeric columns\n",
    "numPreprocessPipeline = Pipeline([\n",
    "    ('NumImputer',     Imputer(strategy='mean')),\n",
    "    ('StandardScaler', StandardScaler())\n",
    "])\n",
    "\n",
    "trainNum = numPreprocessPipeline.fit_transform(trainDf[numColumns])\n",
    "testNum  = numPreprocessPipeline.transform(testDf[numColumns])\n",
    "\n",
    "trainNumDf = pd.DataFrame(trainNum, columns=numColumns)\n",
    "testNumDf  = pd.DataFrame(testNum, columns=numColumns)"
   ]
  },
  {
   "cell_type": "code",
   "execution_count": 15,
   "metadata": {
    "ExecuteTime": {
     "end_time": "2020-05-26T09:12:25.055679Z",
     "start_time": "2020-05-26T09:12:24.684445Z"
    }
   },
   "outputs": [
    {
     "name": "stderr",
     "output_type": "stream",
     "text": [
      "../src/utils/machineLearning.py:21: SettingWithCopyWarning:\n",
      "\n",
      "\n",
      "A value is trying to be set on a copy of a slice from a DataFrame.\n",
      "Try using .loc[row_indexer,col_indexer] = value instead\n",
      "\n",
      "See the caveats in the documentation: http://pandas.pydata.org/pandas-docs/stable/indexing.html#indexing-view-versus-copy\n",
      "\n"
     ]
    }
   ],
   "source": [
    "# preprocess categorical columns\n",
    "catPreprocessPipeline = Pipeline([\n",
    "    ('OneHotEncoder', machineLearning.CategoricalDataEncoder(catColumns, dropFirst=True))\n",
    "])\n",
    "\n",
    "trainCatDf = catPreprocessPipeline.fit_transform(trainDf[catColumns])\n",
    "testCatDf  = catPreprocessPipeline.transform(testDf[catColumns])"
   ]
  },
  {
   "cell_type": "markdown",
   "metadata": {},
   "source": [
    "## Dataset Split"
   ]
  },
  {
   "cell_type": "code",
   "execution_count": 46,
   "metadata": {
    "ExecuteTime": {
     "end_time": "2020-05-27T01:18:23.245371Z",
     "start_time": "2020-05-27T01:18:23.211997Z"
    }
   },
   "outputs": [],
   "source": [
    "from sklearn.model_selection import train_test_split"
   ]
  },
  {
   "cell_type": "code",
   "execution_count": 56,
   "metadata": {
    "ExecuteTime": {
     "end_time": "2020-05-27T01:23:53.211923Z",
     "start_time": "2020-05-27T01:23:53.175404Z"
    }
   },
   "outputs": [],
   "source": [
    "X = pd.concat([trainNumDf, trainCatDf], axis=1)\n",
    "Y = trainDf[[objectiveColumn]]\n",
    "\n",
    "testX = pd.concat([testNumDf, testCatDf], axis=1)"
   ]
  },
  {
   "cell_type": "code",
   "execution_count": 57,
   "metadata": {
    "ExecuteTime": {
     "end_time": "2020-05-27T01:23:53.630875Z",
     "start_time": "2020-05-27T01:23:53.561499Z"
    }
   },
   "outputs": [],
   "source": [
    "trainX, validX, trainY, validY = train_test_split(\n",
    "    X,\n",
    "    Y,\n",
    "    test_size    = 0.2,\n",
    "    random_state = 42,\n",
    "    shuffle      = True,\n",
    ")"
   ]
  },
  {
   "cell_type": "markdown",
   "metadata": {},
   "source": [
    "# Modeling"
   ]
  },
  {
   "cell_type": "code",
   "execution_count": 76,
   "metadata": {
    "ExecuteTime": {
     "end_time": "2020-05-27T01:34:04.712015Z",
     "start_time": "2020-05-27T01:34:04.675272Z"
    }
   },
   "outputs": [],
   "source": [
    "import optuna.integration.lightgbm as lgb\n",
    "from sklearn.metrics import f1_score, confusion_matrix"
   ]
  },
  {
   "cell_type": "code",
   "execution_count": 62,
   "metadata": {
    "ExecuteTime": {
     "end_time": "2020-05-27T01:24:45.518277Z",
     "start_time": "2020-05-27T01:24:40.029806Z"
    }
   },
   "outputs": [
    {
     "name": "stderr",
     "output_type": "stream",
     "text": [
      "/opt/conda/lib/python3.6/site-packages/optuna/_experimental.py:90: ExperimentalWarning:\n",
      "\n",
      "train is experimental (supported from v0.18.0). The interface can change in the future.\n",
      "\n",
      "\n",
      "\n",
      "  0%|          | 0/7 [00:00<?, ?it/s]\n",
      "\n",
      "feature_fraction, val_score: inf:   0%|          | 0/7 [00:00<?, ?it/s]\n",
      "\n",
      "feature_fraction, val_score: 0.459759:   0%|          | 0/7 [00:00<?, ?it/s][I 2020-05-27 01:24:40,168] Finished trial#0 with value: 0.45975902049693185 with parameters: {'feature_fraction': 0.8}. Best is trial#0 with value: 0.45975902049693185.\n",
      "\n",
      "\n",
      "feature_fraction, val_score: 0.459759:  14%|#4        | 1/7 [00:00<00:00,  9.76it/s]\n",
      "\n",
      "feature_fraction, val_score: 0.434816:  14%|#4        | 1/7 [00:00<00:00,  7.35it/s]\n",
      "\n",
      "feature_fraction, val_score: 0.434816:  29%|##8       | 2/7 [00:00<00:00, 14.63it/s][I 2020-05-27 01:24:40,263] Finished trial#1 with value: 0.43481638710797954 with parameters: {'feature_fraction': 0.5}. Best is trial#1 with value: 0.43481638710797954.\n",
      "\n",
      "\n",
      "feature_fraction, val_score: 0.434816:  29%|##8       | 2/7 [00:00<00:00, 14.63it/s]\n",
      "\n",
      "feature_fraction, val_score: 0.434816:  29%|##8       | 2/7 [00:00<00:00, 14.63it/s]\n",
      "\n",
      "feature_fraction, val_score: 0.434816:  43%|####2     | 3/7 [00:00<00:00, 12.81it/s][I 2020-05-27 01:24:40,361] Finished trial#2 with value: 0.4759246905175592 with parameters: {'feature_fraction': 1.0}. Best is trial#1 with value: 0.43481638710797954.\n",
      "\n",
      "\n",
      "feature_fraction, val_score: 0.434816:  43%|####2     | 3/7 [00:00<00:00, 12.81it/s]\n",
      "\n",
      "feature_fraction, val_score: 0.434816:  43%|####2     | 3/7 [00:00<00:00, 12.81it/s][I 2020-05-27 01:24:40,455] Finished trial#3 with value: 0.4633474173509001 with parameters: {'feature_fraction': 0.7}. Best is trial#1 with value: 0.43481638710797954.\n",
      "\n",
      "\n",
      "feature_fraction, val_score: 0.434816:  57%|#####7    | 4/7 [00:00<00:00, 12.81it/s]\n",
      "\n",
      "feature_fraction, val_score: 0.434816:  57%|#####7    | 4/7 [00:00<00:00, 12.81it/s]\n",
      "\n",
      "feature_fraction, val_score: 0.434816:  71%|#######1  | 5/7 [00:00<00:00, 12.16it/s][I 2020-05-27 01:24:40,545] Finished trial#4 with value: 0.4420967865959136 with parameters: {'feature_fraction': 0.6}. Best is trial#1 with value: 0.43481638710797954.\n",
      "\n",
      "\n",
      "feature_fraction, val_score: 0.434816:  71%|#######1  | 5/7 [00:00<00:00, 12.16it/s]\n",
      "\n",
      "feature_fraction, val_score: 0.412217:  71%|#######1  | 5/7 [00:00<00:00, 12.16it/s][I 2020-05-27 01:24:40,631] Finished trial#5 with value: 0.4122174343377455 with parameters: {'feature_fraction': 0.4}. Best is trial#5 with value: 0.4122174343377455.\n",
      "\n",
      "\n",
      "feature_fraction, val_score: 0.412217:  86%|########5 | 6/7 [00:00<00:00, 12.16it/s]\n",
      "\n",
      "feature_fraction, val_score: 0.412217:  86%|########5 | 6/7 [00:00<00:00, 12.16it/s]\n",
      "\n",
      "feature_fraction, val_score: 0.412217: 100%|##########| 7/7 [00:00<00:00, 11.87it/s][I 2020-05-27 01:24:40,723] Finished trial#6 with value: 0.465559668587441 with parameters: {'feature_fraction': 0.8999999999999999}. Best is trial#5 with value: 0.4122174343377455.\n",
      "feature_fraction, val_score: 0.412217: 100%|##########| 7/7 [00:00<00:00, 10.67it/s]\n",
      "\n",
      "\n",
      "  0%|          | 0/20 [00:00<?, ?it/s]\n",
      "\n",
      "num_leaves, val_score: 0.412217:   0%|          | 0/20 [00:00<?, ?it/s]\n",
      "\n",
      "num_leaves, val_score: 0.412217:   0%|          | 0/20 [00:00<?, ?it/s][I 2020-05-27 01:24:40,810] Finished trial#7 with value: 0.4122174343377455 with parameters: {'num_leaves': 131}. Best is trial#7 with value: 0.4122174343377455.\n",
      "\n",
      "\n",
      "num_leaves, val_score: 0.412217:   5%|5         | 1/20 [00:00<00:01, 11.66it/s]\n",
      "\n",
      "num_leaves, val_score: 0.412217:   5%|5         | 1/20 [00:00<00:02,  8.79it/s]\n",
      "\n",
      "num_leaves, val_score: 0.412217:  10%|#         | 2/20 [00:00<00:01, 17.48it/s][I 2020-05-27 01:24:40,896] Finished trial#8 with value: 0.4122174343377455 with parameters: {'num_leaves': 94}. Best is trial#7 with value: 0.4122174343377455.\n",
      "\n",
      "\n",
      "num_leaves, val_score: 0.412217:  10%|#         | 2/20 [00:00<00:01, 17.48it/s]\n",
      "\n",
      "num_leaves, val_score: 0.412217:  10%|#         | 2/20 [00:00<00:01, 17.48it/s][I 2020-05-27 01:24:40,978] Finished trial#9 with value: 0.4122174343377455 with parameters: {'num_leaves': 200}. Best is trial#7 with value: 0.4122174343377455.\n",
      "\n",
      "\n",
      "num_leaves, val_score: 0.412217:  15%|#5        | 3/20 [00:00<00:00, 17.48it/s]\n",
      "\n",
      "num_leaves, val_score: 0.412217:  15%|#5        | 3/20 [00:00<00:00, 17.48it/s]\n",
      "\n",
      "num_leaves, val_score: 0.412217:  20%|##        | 4/20 [00:00<00:01, 15.30it/s][I 2020-05-27 01:24:41,065] Finished trial#10 with value: 0.4122174343377455 with parameters: {'num_leaves': 149}. Best is trial#7 with value: 0.4122174343377455.\n",
      "\n",
      "\n",
      "num_leaves, val_score: 0.412217:  20%|##        | 4/20 [00:00<00:01, 15.30it/s]\n",
      "\n",
      "num_leaves, val_score: 0.412217:  20%|##        | 4/20 [00:00<00:01, 15.30it/s][I 2020-05-27 01:24:41,153] Finished trial#11 with value: 0.4122174343377455 with parameters: {'num_leaves': 127}. Best is trial#7 with value: 0.4122174343377455.\n",
      "\n",
      "\n",
      "num_leaves, val_score: 0.412217:  25%|##5       | 5/20 [00:00<00:00, 15.30it/s]\n",
      "\n",
      "num_leaves, val_score: 0.412217:  25%|##5       | 5/20 [00:00<00:00, 15.30it/s]\n",
      "\n",
      "num_leaves, val_score: 0.412217:  30%|###       | 6/20 [00:00<00:01, 13.87it/s][I 2020-05-27 01:24:41,243] Finished trial#12 with value: 0.4122174343377455 with parameters: {'num_leaves': 131}. Best is trial#7 with value: 0.4122174343377455.\n",
      "\n",
      "\n",
      "num_leaves, val_score: 0.412217:  30%|###       | 6/20 [00:00<00:01, 13.87it/s]\n",
      "\n",
      "num_leaves, val_score: 0.412217:  30%|###       | 6/20 [00:00<00:01, 13.87it/s][I 2020-05-27 01:24:41,330] Finished trial#13 with value: 0.4122174343377455 with parameters: {'num_leaves': 254}. Best is trial#7 with value: 0.4122174343377455.\n",
      "\n",
      "\n",
      "num_leaves, val_score: 0.412217:  35%|###5      | 7/20 [00:00<00:00, 13.87it/s]\n",
      "\n",
      "num_leaves, val_score: 0.412217:  35%|###5      | 7/20 [00:00<00:00, 13.87it/s]\n",
      "\n",
      "num_leaves, val_score: 0.412217:  40%|####      | 8/20 [00:00<00:00, 13.05it/s][I 2020-05-27 01:24:41,414] Finished trial#14 with value: 0.4122174343377455 with parameters: {'num_leaves': 126}. Best is trial#7 with value: 0.4122174343377455.\n",
      "\n",
      "\n",
      "num_leaves, val_score: 0.412217:  40%|####      | 8/20 [00:00<00:00, 13.05it/s]\n",
      "\n",
      "num_leaves, val_score: 0.412217:  40%|####      | 8/20 [00:00<00:00, 13.05it/s][I 2020-05-27 01:24:41,497] Finished trial#15 with value: 0.4122174343377455 with parameters: {'num_leaves': 56}. Best is trial#7 with value: 0.4122174343377455.\n",
      "\n",
      "\n",
      "num_leaves, val_score: 0.412217:  45%|####5     | 9/20 [00:00<00:00, 13.05it/s]\n",
      "\n",
      "num_leaves, val_score: 0.412217:  45%|####5     | 9/20 [00:00<00:00, 13.05it/s]\n",
      "\n",
      "num_leaves, val_score: 0.412217:  50%|#####     | 10/20 [00:00<00:00, 12.73it/s][I 2020-05-27 01:24:41,581] Finished trial#16 with value: 0.4122174343377455 with parameters: {'num_leaves': 164}. Best is trial#7 with value: 0.4122174343377455.\n",
      "\n",
      "\n",
      "num_leaves, val_score: 0.412217:  50%|#####     | 10/20 [00:00<00:00, 12.73it/s]\n",
      "\n",
      "num_leaves, val_score: 0.412217:  50%|#####     | 10/20 [00:00<00:00, 12.73it/s][I 2020-05-27 01:24:41,667] Finished trial#17 with value: 0.4122267690693227 with parameters: {'num_leaves': 27}. Best is trial#7 with value: 0.4122174343377455.\n",
      "\n",
      "\n",
      "num_leaves, val_score: 0.412217:  55%|#####5    | 11/20 [00:00<00:00, 12.73it/s]\n",
      "\n",
      "num_leaves, val_score: 0.412217:  55%|#####5    | 11/20 [00:00<00:00, 12.73it/s]\n",
      "\n",
      "num_leaves, val_score: 0.412217:  60%|######    | 12/20 [00:00<00:00, 12.34it/s][I 2020-05-27 01:24:41,755] Finished trial#18 with value: 0.4122174343377455 with parameters: {'num_leaves': 77}. Best is trial#7 with value: 0.4122174343377455.\n",
      "\n",
      "\n",
      "num_leaves, val_score: 0.412217:  60%|######    | 12/20 [00:01<00:00, 12.34it/s]\n",
      "\n",
      "num_leaves, val_score: 0.412217:  60%|######    | 12/20 [00:01<00:00, 12.34it/s][I 2020-05-27 01:24:41,840] Finished trial#19 with value: 0.4122174343377455 with parameters: {'num_leaves': 82}. Best is trial#7 with value: 0.4122174343377455.\n",
      "\n",
      "\n",
      "num_leaves, val_score: 0.412217:  65%|######5   | 13/20 [00:01<00:00, 12.34it/s]\n",
      "\n",
      "num_leaves, val_score: 0.412217:  65%|######5   | 13/20 [00:01<00:00, 12.34it/s]\n",
      "\n",
      "num_leaves, val_score: 0.412217:  70%|#######   | 14/20 [00:01<00:00, 12.35it/s][I 2020-05-27 01:24:41,917] Finished trial#20 with value: 0.41412281064309797 with parameters: {'num_leaves': 7}. Best is trial#7 with value: 0.4122174343377455.\n",
      "\n",
      "\n"
     ]
    },
    {
     "name": "stderr",
     "output_type": "stream",
     "text": [
      "num_leaves, val_score: 0.412217:  70%|#######   | 14/20 [00:01<00:00, 12.35it/s]\n",
      "\n",
      "num_leaves, val_score: 0.412217:  70%|#######   | 14/20 [00:01<00:00, 12.35it/s][I 2020-05-27 01:24:42,005] Finished trial#21 with value: 0.4122174343377455 with parameters: {'num_leaves': 207}. Best is trial#7 with value: 0.4122174343377455.\n",
      "\n",
      "\n",
      "num_leaves, val_score: 0.412217:  75%|#######5  | 15/20 [00:01<00:00, 12.35it/s]\n",
      "\n",
      "num_leaves, val_score: 0.412217:  75%|#######5  | 15/20 [00:01<00:00, 12.35it/s]\n",
      "\n",
      "num_leaves, val_score: 0.412217:  80%|########  | 16/20 [00:01<00:00, 12.04it/s][I 2020-05-27 01:24:42,093] Finished trial#22 with value: 0.4122174343377455 with parameters: {'num_leaves': 96}. Best is trial#7 with value: 0.4122174343377455.\n",
      "\n",
      "\n",
      "num_leaves, val_score: 0.412217:  80%|########  | 16/20 [00:01<00:00, 12.04it/s]\n",
      "\n",
      "num_leaves, val_score: 0.412217:  80%|########  | 16/20 [00:01<00:00, 12.04it/s][I 2020-05-27 01:24:42,191] Finished trial#23 with value: 0.4122174343377455 with parameters: {'num_leaves': 39}. Best is trial#7 with value: 0.4122174343377455.\n",
      "\n",
      "\n",
      "num_leaves, val_score: 0.412217:  85%|########5 | 17/20 [00:01<00:00, 12.04it/s]\n",
      "\n",
      "num_leaves, val_score: 0.412217:  85%|########5 | 17/20 [00:01<00:00, 12.04it/s]\n",
      "\n",
      "num_leaves, val_score: 0.412217:  90%|######### | 18/20 [00:01<00:00, 11.66it/s][I 2020-05-27 01:24:42,279] Finished trial#24 with value: 0.4122174343377455 with parameters: {'num_leaves': 222}. Best is trial#7 with value: 0.4122174343377455.\n",
      "\n",
      "\n",
      "num_leaves, val_score: 0.412217:  90%|######### | 18/20 [00:01<00:00, 11.66it/s]\n",
      "\n",
      "num_leaves, val_score: 0.412217:  90%|######### | 18/20 [00:01<00:00, 11.66it/s][I 2020-05-27 01:24:42,365] Finished trial#25 with value: 0.4122174343377455 with parameters: {'num_leaves': 177}. Best is trial#7 with value: 0.4122174343377455.\n",
      "\n",
      "\n",
      "num_leaves, val_score: 0.412217:  95%|#########5| 19/20 [00:01<00:00, 11.66it/s]\n",
      "\n",
      "num_leaves, val_score: 0.412217:  95%|#########5| 19/20 [00:01<00:00, 11.66it/s]\n",
      "\n",
      "num_leaves, val_score: 0.412217: 100%|##########| 20/20 [00:01<00:00, 11.57it/s][I 2020-05-27 01:24:42,452] Finished trial#26 with value: 0.4122174343377455 with parameters: {'num_leaves': 42}. Best is trial#7 with value: 0.4122174343377455.\n",
      "num_leaves, val_score: 0.412217: 100%|##########| 20/20 [00:01<00:00, 11.58it/s]\n",
      "\n",
      "\n",
      "  0%|          | 0/10 [00:00<?, ?it/s]\n",
      "\n",
      "bagging, val_score: 0.412217:   0%|          | 0/10 [00:00<?, ?it/s]\n",
      "\n",
      "bagging, val_score: 0.412217:   0%|          | 0/10 [00:00<?, ?it/s][I 2020-05-27 01:24:42,540] Finished trial#27 with value: 0.413496017022167 with parameters: {'bagging_fraction': 0.8870253143760912, 'bagging_freq': 1}. Best is trial#27 with value: 0.413496017022167.\n",
      "\n",
      "\n",
      "bagging, val_score: 0.412217:  10%|#         | 1/10 [00:00<00:00, 11.47it/s]\n",
      "\n",
      "bagging, val_score: 0.400298:  10%|#         | 1/10 [00:00<00:00,  9.29it/s]\n",
      "\n",
      "bagging, val_score: 0.400298:  20%|##        | 2/10 [00:00<00:00, 18.46it/s][I 2020-05-27 01:24:42,620] Finished trial#28 with value: 0.4002980016317971 with parameters: {'bagging_fraction': 0.5653976244948066, 'bagging_freq': 7}. Best is trial#28 with value: 0.4002980016317971.\n",
      "\n",
      "\n",
      "bagging, val_score: 0.400298:  20%|##        | 2/10 [00:00<00:00, 18.46it/s]\n",
      "\n",
      "bagging, val_score: 0.400298:  20%|##        | 2/10 [00:00<00:00, 18.46it/s][I 2020-05-27 01:24:42,703] Finished trial#29 with value: 0.4021563093754894 with parameters: {'bagging_fraction': 0.898387951606114, 'bagging_freq': 2}. Best is trial#28 with value: 0.4002980016317971.\n",
      "\n",
      "\n",
      "bagging, val_score: 0.400298:  30%|###       | 3/10 [00:00<00:00, 18.46it/s]\n",
      "\n",
      "bagging, val_score: 0.400298:  30%|###       | 3/10 [00:00<00:00, 18.46it/s]\n",
      "\n",
      "bagging, val_score: 0.400298:  40%|####      | 4/10 [00:00<00:00, 15.91it/s][I 2020-05-27 01:24:42,786] Finished trial#30 with value: 0.4065139218409134 with parameters: {'bagging_fraction': 0.7814469956415461, 'bagging_freq': 5}. Best is trial#28 with value: 0.4002980016317971.\n",
      "\n",
      "\n",
      "bagging, val_score: 0.400298:  40%|####      | 4/10 [00:00<00:00, 15.91it/s]\n",
      "\n",
      "bagging, val_score: 0.398335:  40%|####      | 4/10 [00:00<00:00, 15.91it/s][I 2020-05-27 01:24:42,863] Finished trial#31 with value: 0.3983354376052836 with parameters: {'bagging_fraction': 0.5654112376541548, 'bagging_freq': 3}. Best is trial#31 with value: 0.3983354376052836.\n",
      "\n",
      "\n",
      "bagging, val_score: 0.398335:  50%|#####     | 5/10 [00:00<00:00, 15.91it/s]\n",
      "\n",
      "bagging, val_score: 0.398335:  50%|#####     | 5/10 [00:00<00:00, 15.91it/s]\n",
      "\n",
      "bagging, val_score: 0.398335:  60%|######    | 6/10 [00:00<00:00, 14.91it/s][I 2020-05-27 01:24:42,938] Finished trial#32 with value: 0.40288667976613324 with parameters: {'bagging_fraction': 0.4146928169672365, 'bagging_freq': 4}. Best is trial#31 with value: 0.3983354376052836.\n",
      "\n",
      "\n",
      "bagging, val_score: 0.398335:  60%|######    | 6/10 [00:00<00:00, 14.91it/s]\n",
      "\n",
      "bagging, val_score: 0.398335:  60%|######    | 6/10 [00:00<00:00, 14.91it/s][I 2020-05-27 01:24:43,023] Finished trial#33 with value: 0.4140670154684307 with parameters: {'bagging_fraction': 0.9423405976926583, 'bagging_freq': 3}. Best is trial#31 with value: 0.3983354376052836.\n",
      "\n",
      "\n",
      "bagging, val_score: 0.398335:  70%|#######   | 7/10 [00:00<00:00, 14.91it/s]\n",
      "\n",
      "bagging, val_score: 0.398335:  70%|#######   | 7/10 [00:00<00:00, 14.91it/s]\n",
      "\n",
      "bagging, val_score: 0.398335:  80%|########  | 8/10 [00:00<00:00, 14.00it/s][I 2020-05-27 01:24:43,102] Finished trial#34 with value: 0.40832028828038114 with parameters: {'bagging_fraction': 0.6171643862648195, 'bagging_freq': 2}. Best is trial#31 with value: 0.3983354376052836.\n",
      "\n",
      "\n",
      "bagging, val_score: 0.398335:  80%|########  | 8/10 [00:00<00:00, 14.00it/s]\n",
      "\n",
      "bagging, val_score: 0.398335:  80%|########  | 8/10 [00:00<00:00, 14.00it/s][I 2020-05-27 01:24:43,189] Finished trial#35 with value: 0.40636347176504284 with parameters: {'bagging_fraction': 0.8760520003719918, 'bagging_freq': 4}. Best is trial#31 with value: 0.3983354376052836.\n",
      "\n",
      "\n",
      "bagging, val_score: 0.398335:  90%|######### | 9/10 [00:00<00:00, 14.00it/s]\n",
      "\n",
      "bagging, val_score: 0.398023:  90%|######### | 9/10 [00:00<00:00, 14.00it/s]\n",
      "\n",
      "bagging, val_score: 0.398023: 100%|##########| 10/10 [00:00<00:00, 13.40it/s][I 2020-05-27 01:24:43,270] Finished trial#36 with value: 0.39802305001424454 with parameters: {'bagging_fraction': 0.41379909164011003, 'bagging_freq': 6}. Best is trial#36 with value: 0.39802305001424454.\n",
      "bagging, val_score: 0.398023: 100%|##########| 10/10 [00:00<00:00, 12.25it/s]\n",
      "\n",
      "\n",
      "  0%|          | 0/3 [00:00<?, ?it/s]\n",
      "\n",
      "feature_fraction_stage2, val_score: 0.398023:   0%|          | 0/3 [00:00<?, ?it/s]\n",
      "\n",
      "feature_fraction_stage2, val_score: 0.398023:   0%|          | 0/3 [00:00<?, ?it/s][I 2020-05-27 01:24:43,355] Finished trial#37 with value: 0.412589888904326 with parameters: {'feature_fraction': 0.48000000000000004}. Best is trial#37 with value: 0.412589888904326.\n",
      "\n",
      "\n",
      "feature_fraction_stage2, val_score: 0.398023:  33%|###3      | 1/3 [00:00<00:00, 11.55it/s]\n",
      "\n",
      "feature_fraction_stage2, val_score: 0.398023:  33%|###3      | 1/3 [00:00<00:00,  9.51it/s]\n",
      "\n",
      "feature_fraction_stage2, val_score: 0.398023:  67%|######6   | 2/3 [00:00<00:00, 18.91it/s][I 2020-05-27 01:24:43,436] Finished trial#38 with value: 0.39802305001424454 with parameters: {'feature_fraction': 0.41600000000000004}. Best is trial#38 with value: 0.39802305001424454.\n",
      "\n",
      "\n",
      "feature_fraction_stage2, val_score: 0.398023:  67%|######6   | 2/3 [00:00<00:00, 18.91it/s]\n",
      "\n",
      "feature_fraction_stage2, val_score: 0.398023:  67%|######6   | 2/3 [00:00<00:00, 18.91it/s][I 2020-05-27 01:24:43,516] Finished trial#39 with value: 0.412589888904326 with parameters: {'feature_fraction': 0.44800000000000006}. Best is trial#38 with value: 0.39802305001424454.\n",
      "feature_fraction_stage2, val_score: 0.398023: 100%|##########| 3/3 [00:00<00:00, 12.30it/s]\n",
      "\n",
      "\n",
      "  0%|          | 0/20 [00:00<?, ?it/s]\n",
      "\n",
      "regularization_factors, val_score: 0.398023:   0%|          | 0/20 [00:00<?, ?it/s]\n",
      "\n",
      "regularization_factors, val_score: 0.398023:   0%|          | 0/20 [00:00<?, ?it/s][I 2020-05-27 01:24:43,599] Finished trial#40 with value: 0.398023509677006 with parameters: {'lambda_l1': 8.904883255180491e-07, 'lambda_l2': 0.000237907763926836}. Best is trial#40 with value: 0.398023509677006.\n",
      "\n",
      "\n"
     ]
    },
    {
     "name": "stderr",
     "output_type": "stream",
     "text": [
      "regularization_factors, val_score: 0.398023:   5%|5         | 1/20 [00:00<00:01, 12.27it/s]\n",
      "\n",
      "regularization_factors, val_score: 0.398023:   5%|5         | 1/20 [00:00<00:01, 10.01it/s]\n",
      "\n",
      "regularization_factors, val_score: 0.398023:  10%|#         | 2/20 [00:00<00:00, 19.90it/s][I 2020-05-27 01:24:43,676] Finished trial#41 with value: 0.39802329892660077 with parameters: {'lambda_l1': 3.887821987987392e-07, 'lambda_l2': 0.0001290088527059888}. Best is trial#41 with value: 0.39802329892660077.\n",
      "\n",
      "\n",
      "regularization_factors, val_score: 0.398023:  10%|#         | 2/20 [00:00<00:00, 19.90it/s]\n",
      "\n",
      "regularization_factors, val_score: 0.398023:  10%|#         | 2/20 [00:00<00:00, 19.90it/s][I 2020-05-27 01:24:43,751] Finished trial#42 with value: 0.4068883180422408 with parameters: {'lambda_l1': 0.29243221179247564, 'lambda_l2': 3.730463832044242e-05}. Best is trial#41 with value: 0.39802329892660077.\n",
      "\n",
      "\n",
      "regularization_factors, val_score: 0.398023:  15%|#5        | 3/20 [00:00<00:00, 19.90it/s]\n",
      "\n",
      "regularization_factors, val_score: 0.398023:  15%|#5        | 3/20 [00:00<00:00, 19.90it/s]\n",
      "\n",
      "regularization_factors, val_score: 0.398023:  20%|##        | 4/20 [00:00<00:00, 17.24it/s][I 2020-05-27 01:24:43,829] Finished trial#43 with value: 0.39802369122319253 with parameters: {'lambda_l1': 0.0001434913714342225, 'lambda_l2': 1.2985135192995363e-07}. Best is trial#41 with value: 0.39802329892660077.\n",
      "\n",
      "\n",
      "regularization_factors, val_score: 0.398023:  20%|##        | 4/20 [00:00<00:00, 17.24it/s]\n",
      "\n",
      "regularization_factors, val_score: 0.398023:  20%|##        | 4/20 [00:00<00:00, 17.24it/s][I 2020-05-27 01:24:43,904] Finished trial#44 with value: 0.3980230042782183 with parameters: {'lambda_l1': 0.00029593499560503724, 'lambda_l2': 0.0006034400693297628}. Best is trial#44 with value: 0.3980230042782183.\n",
      "\n",
      "\n",
      "regularization_factors, val_score: 0.398023:  25%|##5       | 5/20 [00:00<00:00, 17.24it/s]\n",
      "\n",
      "regularization_factors, val_score: 0.396380:  25%|##5       | 5/20 [00:00<00:00, 17.24it/s]\n",
      "\n",
      "regularization_factors, val_score: 0.396380:  30%|###       | 6/20 [00:00<00:00, 15.74it/s][I 2020-05-27 01:24:43,981] Finished trial#45 with value: 0.39637966832234245 with parameters: {'lambda_l1': 7.331304391957398e-06, 'lambda_l2': 0.009775227051427388}. Best is trial#45 with value: 0.39637966832234245.\n",
      "\n",
      "\n",
      "regularization_factors, val_score: 0.396380:  30%|###       | 6/20 [00:00<00:00, 15.74it/s]\n",
      "\n",
      "regularization_factors, val_score: 0.396380:  30%|###       | 6/20 [00:00<00:00, 15.74it/s][I 2020-05-27 01:24:44,057] Finished trial#46 with value: 0.3980235295105609 with parameters: {'lambda_l1': 7.686070620058902e-05, 'lambda_l2': 7.111426627841688e-05}. Best is trial#45 with value: 0.39637966832234245.\n",
      "\n",
      "\n",
      "regularization_factors, val_score: 0.396380:  35%|###5      | 7/20 [00:00<00:00, 15.74it/s]\n",
      "\n",
      "regularization_factors, val_score: 0.396380:  35%|###5      | 7/20 [00:00<00:00, 15.74it/s]\n",
      "\n",
      "regularization_factors, val_score: 0.396380:  40%|####      | 8/20 [00:00<00:00, 14.85it/s][I 2020-05-27 01:24:44,135] Finished trial#47 with value: 0.39802357362494184 with parameters: {'lambda_l1': 1.786775839895117e-07, 'lambda_l2': 0.00027288123602588004}. Best is trial#45 with value: 0.39637966832234245.\n",
      "\n",
      "\n",
      "regularization_factors, val_score: 0.396380:  40%|####      | 8/20 [00:00<00:00, 14.85it/s]\n",
      "\n",
      "regularization_factors, val_score: 0.396380:  40%|####      | 8/20 [00:00<00:00, 14.85it/s][I 2020-05-27 01:24:44,217] Finished trial#48 with value: 0.39802319547756443 with parameters: {'lambda_l1': 3.2452872265476726e-05, 'lambda_l2': 7.453618002844651e-08}. Best is trial#45 with value: 0.39637966832234245.\n",
      "\n",
      "\n",
      "regularization_factors, val_score: 0.396380:  45%|####5     | 9/20 [00:00<00:00, 14.85it/s]\n",
      "\n",
      "regularization_factors, val_score: 0.395791:  45%|####5     | 9/20 [00:00<00:00, 14.85it/s]\n",
      "\n",
      "regularization_factors, val_score: 0.395791:  50%|#####     | 10/20 [00:00<00:00, 14.02it/s][I 2020-05-27 01:24:44,296] Finished trial#49 with value: 0.3957909434877814 with parameters: {'lambda_l1': 0.00017950380557521428, 'lambda_l2': 0.08880220712605383}. Best is trial#49 with value: 0.3957909434877814.\n",
      "\n",
      "\n",
      "regularization_factors, val_score: 0.395791:  50%|#####     | 10/20 [00:00<00:00, 14.02it/s]\n",
      "\n",
      "regularization_factors, val_score: 0.395791:  50%|#####     | 10/20 [00:00<00:00, 14.02it/s][I 2020-05-27 01:24:44,372] Finished trial#50 with value: 0.413354097672012 with parameters: {'lambda_l1': 0.1932774976125404, 'lambda_l2': 2.744319444633382}. Best is trial#49 with value: 0.3957909434877814.\n",
      "\n",
      "\n",
      "regularization_factors, val_score: 0.395791:  55%|#####5    | 11/20 [00:00<00:00, 14.02it/s]\n",
      "\n",
      "regularization_factors, val_score: 0.395791:  55%|#####5    | 11/20 [00:00<00:00, 14.02it/s]\n",
      "\n",
      "regularization_factors, val_score: 0.395791:  60%|######    | 12/20 [00:00<00:00, 13.65it/s][I 2020-05-27 01:24:44,451] Finished trial#51 with value: 0.4008358473961283 with parameters: {'lambda_l1': 0.008391622274106954, 'lambda_l2': 0.38966962809503486}. Best is trial#49 with value: 0.3957909434877814.\n",
      "\n",
      "\n",
      "regularization_factors, val_score: 0.395791:  60%|######    | 12/20 [00:00<00:00, 13.65it/s]\n",
      "\n",
      "regularization_factors, val_score: 0.395614:  60%|######    | 12/20 [00:00<00:00, 13.65it/s][I 2020-05-27 01:24:44,528] Finished trial#52 with value: 0.39561431212569004 with parameters: {'lambda_l1': 6.9357446477357584e-06, 'lambda_l2': 0.04559275155695967}. Best is trial#52 with value: 0.39561431212569004.\n",
      "\n",
      "\n",
      "regularization_factors, val_score: 0.395614:  65%|######5   | 13/20 [00:01<00:00, 13.65it/s]\n",
      "\n",
      "regularization_factors, val_score: 0.395614:  65%|######5   | 13/20 [00:01<00:00, 13.65it/s]\n",
      "\n",
      "regularization_factors, val_score: 0.395614:  70%|#######   | 14/20 [00:01<00:00, 13.38it/s][I 2020-05-27 01:24:44,607] Finished trial#53 with value: 0.397514740206306 with parameters: {'lambda_l1': 0.008349984176237234, 'lambda_l2': 0.03564131862144313}. Best is trial#52 with value: 0.39561431212569004.\n",
      "\n",
      "\n",
      "regularization_factors, val_score: 0.395614:  70%|#######   | 14/20 [00:01<00:00, 13.38it/s]\n",
      "\n",
      "regularization_factors, val_score: 0.395614:  70%|#######   | 14/20 [00:01<00:00, 13.38it/s][I 2020-05-27 01:24:44,682] Finished trial#54 with value: 0.41415801417832426 with parameters: {'lambda_l1': 0.0112678946042628, 'lambda_l2': 3.3818816478510474}. Best is trial#52 with value: 0.39561431212569004.\n",
      "\n",
      "\n",
      "regularization_factors, val_score: 0.395614:  75%|#######5  | 15/20 [00:01<00:00, 13.38it/s]\n",
      "\n",
      "regularization_factors, val_score: 0.395614:  75%|#######5  | 15/20 [00:01<00:00, 13.38it/s]\n",
      "\n",
      "regularization_factors, val_score: 0.395614:  80%|########  | 16/20 [00:01<00:00, 13.30it/s][I 2020-05-27 01:24:44,760] Finished trial#55 with value: 0.3956628528999292 with parameters: {'lambda_l1': 2.993843136948427e-08, 'lambda_l2': 0.04707278191535243}. Best is trial#52 with value: 0.39561431212569004.\n",
      "\n",
      "\n",
      "regularization_factors, val_score: 0.395614:  80%|########  | 16/20 [00:01<00:00, 13.30it/s]\n",
      "\n",
      "regularization_factors, val_score: 0.395614:  80%|########  | 16/20 [00:01<00:00, 13.30it/s][I 2020-05-27 01:24:44,840] Finished trial#56 with value: 0.3980420766855015 with parameters: {'lambda_l1': 1.5167763015362092e-08, 'lambda_l2': 0.0045466212398376105}. Best is trial#52 with value: 0.39561431212569004.\n",
      "\n",
      "\n",
      "regularization_factors, val_score: 0.395614:  85%|########5 | 17/20 [00:01<00:00, 13.30it/s]\n",
      "\n",
      "regularization_factors, val_score: 0.395614:  85%|########5 | 17/20 [00:01<00:00, 13.30it/s]\n",
      "\n",
      "regularization_factors, val_score: 0.395614:  90%|######### | 18/20 [00:01<00:00, 13.06it/s][I 2020-05-27 01:24:44,919] Finished trial#57 with value: 0.39802305612262223 with parameters: {'lambda_l1': 2.958796193592786e-08, 'lambda_l2': 2.9434387646203158e-06}. Best is trial#52 with value: 0.39561431212569004.\n",
      "\n",
      "\n",
      "regularization_factors, val_score: 0.395614:  90%|######### | 18/20 [00:01<00:00, 13.06it/s]\n",
      "\n",
      "regularization_factors, val_score: 0.395614:  90%|######### | 18/20 [00:01<00:00, 13.06it/s][I 2020-05-27 01:24:44,995] Finished trial#58 with value: 0.401725879735295 with parameters: {'lambda_l1': 5.038885365940324e-06, 'lambda_l2': 0.46519911780432815}. Best is trial#52 with value: 0.39561431212569004.\n",
      "\n",
      "\n"
     ]
    },
    {
     "name": "stderr",
     "output_type": "stream",
     "text": [
      "regularization_factors, val_score: 0.395614:  95%|#########5| 19/20 [00:01<00:00, 13.06it/s]\n",
      "\n",
      "regularization_factors, val_score: 0.395614:  95%|#########5| 19/20 [00:01<00:00, 13.06it/s]\n",
      "\n",
      "regularization_factors, val_score: 0.395614: 100%|##########| 20/20 [00:01<00:00, 12.96it/s][I 2020-05-27 01:24:45,077] Finished trial#59 with value: 0.39802073751829503 with parameters: {'lambda_l1': 1.0194912397746548e-08, 'lambda_l2': 0.0023833940980565}. Best is trial#52 with value: 0.39561431212569004.\n",
      "regularization_factors, val_score: 0.395614: 100%|##########| 20/20 [00:01<00:00, 12.84it/s]\n",
      "\n",
      "\n",
      "  0%|          | 0/5 [00:00<?, ?it/s]\n",
      "\n",
      "min_data_in_leaf, val_score: 0.395614:   0%|          | 0/5 [00:00<?, ?it/s]\n",
      "\n",
      "min_data_in_leaf, val_score: 0.393666:   0%|          | 0/5 [00:00<?, ?it/s][I 2020-05-27 01:24:45,185] Finished trial#60 with value: 0.39366641936900076 with parameters: {'min_child_samples': 10}. Best is trial#60 with value: 0.39366641936900076.\n",
      "\n",
      "\n",
      "min_data_in_leaf, val_score: 0.393666:  20%|##        | 1/5 [00:00<00:00,  8.89it/s]\n",
      "\n",
      "min_data_in_leaf, val_score: 0.393666:  20%|##        | 1/5 [00:00<00:00,  7.85it/s]\n",
      "\n",
      "min_data_in_leaf, val_score: 0.393666:  40%|####      | 2/5 [00:00<00:00, 15.62it/s][I 2020-05-27 01:24:45,265] Finished trial#61 with value: 0.42422329299601597 with parameters: {'min_child_samples': 50}. Best is trial#60 with value: 0.39366641936900076.\n",
      "\n",
      "\n",
      "min_data_in_leaf, val_score: 0.393666:  40%|####      | 2/5 [00:00<00:00, 15.62it/s]\n",
      "\n",
      "min_data_in_leaf, val_score: 0.393666:  40%|####      | 2/5 [00:00<00:00, 15.62it/s][I 2020-05-27 01:24:45,359] Finished trial#62 with value: 0.4069762667906853 with parameters: {'min_child_samples': 5}. Best is trial#60 with value: 0.39366641936900076.\n",
      "\n",
      "\n",
      "min_data_in_leaf, val_score: 0.393666:  60%|######    | 3/5 [00:00<00:00, 15.62it/s]\n",
      "\n",
      "min_data_in_leaf, val_score: 0.393666:  60%|######    | 3/5 [00:00<00:00, 15.62it/s]\n",
      "\n",
      "min_data_in_leaf, val_score: 0.393666:  80%|########  | 4/5 [00:00<00:00, 14.22it/s][I 2020-05-27 01:24:45,434] Finished trial#63 with value: 0.4757542189499766 with parameters: {'min_child_samples': 100}. Best is trial#60 with value: 0.39366641936900076.\n",
      "\n",
      "\n",
      "min_data_in_leaf, val_score: 0.393666:  80%|########  | 4/5 [00:00<00:00, 14.22it/s]\n",
      "\n",
      "min_data_in_leaf, val_score: 0.393666:  80%|########  | 4/5 [00:00<00:00, 14.22it/s][I 2020-05-27 01:24:45,514] Finished trial#64 with value: 0.40508563486859583 with parameters: {'min_child_samples': 25}. Best is trial#60 with value: 0.39366641936900076.\n",
      "min_data_in_leaf, val_score: 0.393666: 100%|##########| 5/5 [00:00<00:00, 11.51it/s]\n"
     ]
    }
   ],
   "source": [
    "train = lgb.Dataset(trainX, trainY)\n",
    "valid = lgb.Dataset(validX, validY)\n",
    "\n",
    "params = {\n",
    "    'objective'   : 'binary',\n",
    "    'metric'      : 'binary_logloss',\n",
    "    'class_weight': 'balanced'\n",
    "}\n",
    "bestParams, history = {}, []\n",
    "\n",
    "booster = lgb.train(\n",
    "    params,\n",
    "    train,\n",
    "    valid_sets = valid,\n",
    "    num_boost_round = 100,\n",
    "    verbose_eval    = 0,\n",
    "    best_params     = bestParams,\n",
    "    tuning_history  = history,\n",
    ")"
   ]
  },
  {
   "cell_type": "code",
   "execution_count": 81,
   "metadata": {
    "ExecuteTime": {
     "end_time": "2020-05-27T01:37:34.349082Z",
     "start_time": "2020-05-27T01:37:34.306076Z"
    },
    "scrolled": true
   },
   "outputs": [
    {
     "name": "stdout",
     "output_type": "stream",
     "text": [
      "F1 Score:  0.802721088435374\n",
      "Confusion Matrix: \n"
     ]
    },
    {
     "data": {
      "text/plain": [
       "array([[91, 14],\n",
       "       [15, 59]])"
      ]
     },
     "metadata": {},
     "output_type": "display_data"
    }
   ],
   "source": [
    "pred = booster.predict(validX)\n",
    "pred = [1 if p >= 0.5 else 0 for p in pred]\n",
    "print('F1 Score: ', f1_score(validY, pred))\n",
    "print('Confusion Matrix: ')\n",
    "display(confusion_matrix(validY, pred))"
   ]
  },
  {
   "cell_type": "markdown",
   "metadata": {},
   "source": [
    "# SHAP"
   ]
  },
  {
   "cell_type": "code",
   "execution_count": 82,
   "metadata": {
    "ExecuteTime": {
     "end_time": "2020-05-27T01:39:01.853194Z",
     "start_time": "2020-05-27T01:39:01.712427Z"
    }
   },
   "outputs": [],
   "source": [
    "import shap"
   ]
  },
  {
   "cell_type": "code",
   "execution_count": 83,
   "metadata": {
    "ExecuteTime": {
     "end_time": "2020-05-27T01:39:50.858020Z",
     "start_time": "2020-05-27T01:39:50.787074Z"
    }
   },
   "outputs": [],
   "source": [
    "explainer  = shap.TreeExplainer(booster, feature_perturbation = 'tree_path_dependent')\n",
    "shapValues = explainer.shap_values(trainX)"
   ]
  },
  {
   "cell_type": "code",
   "execution_count": 90,
   "metadata": {
    "ExecuteTime": {
     "end_time": "2020-05-27T01:41:06.070526Z",
     "start_time": "2020-05-27T01:41:05.819421Z"
    }
   },
   "outputs": [
    {
     "data": {
      "image/png": "[encoded data removed]",
      "text/plain": [
       "<Figure size 576x626.4 with 1 Axes>"
      ]
     },
     "metadata": {
      "needs_background": "light"
     },
     "output_type": "display_data"
    }
   ],
   "source": [
    "# 説明変数の寄与度\n",
    "shap.summary_plot(\n",
    "    shapValues,\n",
    "    trainX,\n",
    "    plot_type     = 'bar',\n",
    "    feature_names = list(trainX.columns),\n",
    ")"
   ]
  },
  {
   "cell_type": "code",
   "execution_count": 91,
   "metadata": {
    "ExecuteTime": {
     "end_time": "2020-05-27T01:41:59.030393Z",
     "start_time": "2020-05-27T01:41:58.534588Z"
    }
   },
   "outputs": [
    {
     "data": {
      "image/png": "[encoded data removed]",
      "text/plain": [
       "<Figure size 576x626.4 with 2 Axes>"
      ]
     },
     "metadata": {
      "needs_background": "light"
     },
     "output_type": "display_data"
    }
   ],
   "source": [
    "# 説明変数(y軸)と目的変数(x軸)の相関\n",
    "shap.summary_plot(\n",
    "    shapValues,\n",
    "    trainX,\n",
    "    plot_type     = 'dot',\n",
    "    feature_names = list(trainX.columns),\n",
    ")"
   ]
  },
  {
   "cell_type": "markdown",
   "metadata": {},
   "source": [
    "# Submission"
   ]
  },
  {
   "cell_type": "code",
   "execution_count": 94,
   "metadata": {
    "ExecuteTime": {
     "end_time": "2020-05-27T01:47:13.034770Z",
     "start_time": "2020-05-27T01:47:12.993548Z"
    }
   },
   "outputs": [],
   "source": [
    "testPred = booster.predict(testX)\n",
    "testPred = [1 if p >= 0.5 else 0 for p in testPred]"
   ]
  },
  {
   "cell_type": "code",
   "execution_count": null,
   "metadata": {
    "ExecuteTime": {
     "end_time": "2020-05-27T01:53:25.784696Z",
     "start_time": "2020-05-27T01:53:25.747746Z"
    }
   },
   "outputs": [],
   "source": [
    "submissionTemp = pd.read_csv('../data/titanic/gender_submission.csv')\n",
    "\n",
    "submissionTemp['Survived'] = testPred\n",
    "\n",
    "submissionTemp.to_csv('../data/titanic/submission.csv')"
   ]
  },
  {
   "cell_type": "code",
   "execution_count": 107,
   "metadata": {
    "ExecuteTime": {
     "end_time": "2020-05-27T01:56:15.347369Z",
     "start_time": "2020-05-27T01:56:06.792923Z"
    }
   },
   "outputs": [
    {
     "name": "stdout",
     "output_type": "stream",
     "text": [
      "100%|████████████████████████████████████████| 4.30k/4.30k [00:04<00:00, 902B/s]\n",
      "Successfully submitted to Titanic: Machine Learning from Disaster"
     ]
    }
   ],
   "source": [
    "! kaggle competitions submit -c titanic -f ../data/titanic/submission.csv -m \"Test submission\""
   ]
  },
  {
   "cell_type": "code",
   "execution_count": null,
   "metadata": {},
   "outputs": [],
   "source": []
  }
 ],
 "metadata": {
  "kernelspec": {
   "display_name": "Python 3",
   "language": "python",
   "name": "python3"
  },
  "language_info": {
   "codemirror_mode": {
    "name": "ipython",
    "version": 3
   },
   "file_extension": ".py",
   "mimetype": "text/x-python",
   "name": "python",
   "nbconvert_exporter": "python",
   "pygments_lexer": "ipython3",
   "version": "3.6.6"
  },
  "toc": {
   "base_numbering": 1,
   "nav_menu": {},
   "number_sections": true,
   "sideBar": true,
   "skip_h1_title": false,
   "title_cell": "Table of Contents",
   "title_sidebar": "Contents",
   "toc_cell": false,
   "toc_position": {
    "height": "calc(100% - 180px)",
    "left": "10px",
    "top": "150px",
    "width": "273px"
   },
   "toc_section_display": true,
   "toc_window_display": true
  }
 },
 "nbformat": 4,
 "nbformat_minor": 2
}
